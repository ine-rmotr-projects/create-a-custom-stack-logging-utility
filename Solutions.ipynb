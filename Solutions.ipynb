{
 "cells": [
  {
   "cell_type": "markdown",
   "metadata": {},
   "source": [
    "![ine-divider](https://user-images.githubusercontent.com/7065401/92672068-398e8080-f2ee-11ea-82d6-ad53f7feb5c0.png)\n",
    "<hr>\n",
    "\n",
    "### Software Development with Python\n",
    "\n",
    "# Create a custom stack logging utility\n",
    "\n",
    "This project asks you to create a custom utility module that you can reuse within your software projects.  "
   ]
  },
  {
   "cell_type": "markdown",
   "metadata": {},
   "source": [
    "![orange-divider](https://user-images.githubusercontent.com/7065401/92672455-187a5f80-f2ef-11ea-890c-40be9474f7b7.png)"
   ]
  },
  {
   "cell_type": "markdown",
   "metadata": {},
   "source": [
    "## Part 1\n",
    "\n",
    "**Write a log_stack() utility**\n",
    "\n",
    "\n",
    "This project asks you to create a custom utility module that you can reuse within your software projects.  Its purpose is to provide a single function that will report the current stack and a message to a log file.  It might be used in a manner such as this:\n",
    "\n",
    "```python\n",
    "from stack_logger import log_stack\n",
    "# ... various code ...\n",
    "if value > expected_max:\n",
    "    log_stack(f\"{value} > {expected_max}\")\n",
    "```"
   ]
  },
  {
   "cell_type": "markdown",
   "metadata": {},
   "source": [
    "Within the log file produced by these calls, you should have lines similar to:\n",
    "\n",
    "```\n",
    "2021-02-03 00:28:54,482 this->that->other->yet_more (that thing went wrong!)\n",
    "2021-02-03 00:28:54,482 caculate->stuff->nested (87 > 50)\n",
    "```"
   ]
  },
  {
   "cell_type": "markdown",
   "metadata": {},
   "source": [
    "**Solution**\n",
    "\n",
    "Create a `stack_logger.py` file with the following code:\n",
    "\n",
    "```python\n",
    "import sys\n",
    "import logging\n",
    "\n",
    "logging.basicConfig(filename='runtime-warnings.log',\n",
    "                    level=logging.WARNING,\n",
    "                    format='%(asctime)s %(message)s')\n",
    "\n",
    "def log_stack(message):\n",
    "    # Self report on frame stack\n",
    "    f = sys._getframe()\n",
    "    path = list()\n",
    "    while True:\n",
    "        try:\n",
    "            f = f.f_back\n",
    "            path.append(f.f_code.co_name)\n",
    "        except:\n",
    "            break\n",
    "\n",
    "    stack = \"->\".join(reversed(path[:-1]))\n",
    "    logging.warning(f\"{stack} ({message})\")\n",
    "```"
   ]
  },
  {
   "cell_type": "markdown",
   "metadata": {},
   "source": [
    "![orange-divider](https://user-images.githubusercontent.com/7065401/92672455-187a5f80-f2ef-11ea-890c-40be9474f7b7.png)"
   ]
  }
 ],
 "metadata": {
  "kernelspec": {
   "display_name": "Python 3",
   "language": "python",
   "name": "python3"
  },
  "language_info": {
   "codemirror_mode": {
    "name": "ipython",
    "version": 3
   },
   "file_extension": ".py",
   "mimetype": "text/x-python",
   "name": "python",
   "nbconvert_exporter": "python",
   "pygments_lexer": "ipython3",
   "version": "3.8.6"
  }
 },
 "nbformat": 4,
 "nbformat_minor": 4
}
